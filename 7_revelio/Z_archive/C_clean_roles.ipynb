{
 "cells": [
  {
   "cell_type": "code",
   "execution_count": 2,
   "id": "9b9bf7bd-db99-4661-8444-2f502aee559a",
   "metadata": {},
   "outputs": [],
   "source": [
    "## SETUP \n",
    "imports = ['wrds', 'pandas as pd', 'os', 're', 'pickle', 'numpy as np', 'from name_matching.name_matcher import NameMatcher',\n",
    "          'from joblib import Parallel, delayed', 'from IPython.display import display, HTML, clear_output',\n",
    "          'unicodedata', 'sys']\n",
    "for command in imports:\n",
    "    if command.startswith('from'): exec(command)\n",
    "    else: exec('import ' + command)\n",
    "\n",
    "if not os.getcwd().endswith('Big Data'):\n",
    "    os.chdir('../..')\n",
    "\n",
    "sys.path.append('trade_data_code/2_python')\n",
    "import A_helper_functions as hf\n",
    "\n"
   ]
  },
  {
   "cell_type": "markdown",
   "id": "f2e666e9-b3ea-41f1-858f-a79f5151503f",
   "metadata": {},
   "source": [
    "NOTE THAT THE FOLLOWING SECTION WON'T RUN BC I'VE "
   ]
  },
  {
   "cell_type": "code",
   "execution_count": null,
   "id": "9b922974-bd1c-47e4-8b55-217cd92ecd0d",
   "metadata": {},
   "outputs": [],
   "source": []
  },
  {
   "cell_type": "code",
   "execution_count": 3,
   "id": "3b695f1f-822a-4b03-b8c3-623140f66c24",
   "metadata": {},
   "outputs": [],
   "source": [
    "########################################################################################\n",
    "# USE ROLE DATA TO DETERMINE WHICH FIRMS ARE LIKELY FRENCH \n",
    "########################################################################################\n",
    "\n",
    "french_leis = pd.read_parquet('data/2_processed/admin/LEI_siren_crosswalk.parquet')['lei'].unique()\n",
    "non_french_country_domains = (pd.read_excel('data/2_processed/admin/domain_names_by_country.xlsx')\n",
    "                              .assign(name=lambda x: x['name'].str.replace('.', '', regex=False))\n",
    "                              .query('include != include')['name'])\n",
    "french_factset_ids = pd.read_parquet('data/2_processed/admin/factset_french_domiciled.parquet')['factset_entity_id'].unique()\n",
    "\n",
    "companies = (\n",
    "    ## determine the firm's max total / french / data values and shares \n",
    "    pd.read_parquet('data/2_processed/linkedin/french_affiliated_firm_roles_collapsed_raw.parquet')\n",
    "    .groupby('rcid', as_index=False)\n",
    "    .agg({'emp_total': 'max','emp_french': 'max', 'share_emp_french': 'max', 'share_comp_french': 'max', 'emp_data': 'max'})\n",
    "    .assign(french_eligible = lambda c: c['emp_french'].gt(0),\n",
    "         data_eligible = lambda c: c['emp_data'].gt(0))\n",
    "    .assign(role_eligible = lambda c: c['data_eligible'] & c['french_eligible'])\n",
    "    [['rcid', 'french_eligible', 'data_eligible','role_eligible', 'share_emp_french', 'share_comp_french']].\n",
    "    merge(pd.read_parquet('data/1_raw_data/linkedin/revelio/france_affiliated_firms.parquet'))\n",
    "    \n",
    "    ### determine whether the firm likely french or not \n",
    "    .assign(url_ending = lambda c: c['url'].apply(lambda x: x.split('.')[-1] if isinstance(x, str) else None))\n",
    "    .assign(\n",
    "        admin_score=lambda c: 0\n",
    "        ## TOP LEVEL DOMAIN \n",
    "        + c['url_ending'].eq('fr')  \n",
    "        - c['url_ending'].isin(non_french_country_domains)  \n",
    "\n",
    "        ## FACTSET\n",
    "        + c['factset_entity_id'].isin(french_factset_ids)\n",
    "        - (~c['factset_entity_id'].isin(french_factset_ids) & c['factset_entity_id'].notna())\n",
    "\n",
    "        # LEI CHECK \n",
    "        +  c['lei'].isin(french_leis) \n",
    "        -  (~c['lei'].isin(french_leis) & c['lei'].notna()) \n",
    "\n",
    "        # ISIN \n",
    "        + c['isin'].str[:2].eq(\"FR\") # add if french isin\n",
    "        - (~c['isin'].str[:2].eq(\"FR\") & c['isin'].notna())\n",
    "\n",
    "        # CUSIP \n",
    "        + c['cusip'].str[:1].eq(\"F\") # add if french cusip\n",
    "        - (~c['cusip'].str[:1].eq(\"F\") & c['cusip'].notna())\n",
    "\n",
    "        # Firm type \n",
    "        + c['firm_type_french_likelihood'].eq(\"likely french\") \n",
    "        - c['firm_type_french_likelihood'].eq(\"unlikely french\"))\n",
    "     .assign(\n",
    "         likely_french = lambda c: \n",
    "         c['french_eligible'] & (\n",
    "         c['admin_score'].gt(0) | \n",
    "         (c['admin_score'].eq(0) & (c['share_emp_french'].gt(.5) | c['share_comp_french'].gt(.5)))))\n",
    "    \n",
    "    #### mark whether it's a subsidiary \n",
    "    .assign(subsidiary = lambda c: c['rcid'] != c['ultimate_parent_rcid'])\n",
    "    [['rcid','lei','company','company_cleaned', 'company_stripped', 'year_founded', 'ultimate_parent_rcid',\n",
    "      'french_eligible', 'data_eligible', 'role_eligible', 'likely_french', 'subsidiary']]\n",
    ")\n",
    "companies.to_parquet('data/2_processed/linkedin/france_affiliated_firms_cleaned.parquet')\n"
   ]
  }
 ],
 "metadata": {
  "kernelspec": {
   "display_name": "Python 3",
   "language": "python",
   "name": "python3"
  },
  "language_info": {
   "codemirror_mode": {
    "name": "ipython",
    "version": 3
   },
   "file_extension": ".py",
   "mimetype": "text/x-python",
   "name": "python",
   "nbconvert_exporter": "python",
   "pygments_lexer": "ipython3",
   "version": "3.8.8"
  }
 },
 "nbformat": 4,
 "nbformat_minor": 5
}
