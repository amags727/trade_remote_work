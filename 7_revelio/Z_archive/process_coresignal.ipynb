{
 "cells": [
  {
   "cell_type": "code",
   "execution_count": 1,
   "id": "b10ab276-18b7-4149-a422-24707fea1cee",
   "metadata": {},
   "outputs": [],
   "source": [
    "##Setup\n",
    "import pandas as pd;\n",
    "import os;\n",
    "from urllib.parse import unquote\n",
    "\n",
    "os.chdir('../..')"
   ]
  },
  {
   "cell_type": "code",
   "execution_count": 2,
   "id": "2af0506f-873b-45fc-82e2-2456d29a73f6",
   "metadata": {},
   "outputs": [],
   "source": [
    "## Import all the coresignal files \n",
    "directory_path = 'data/1_raw_data/linkedin/coresignal/company/main'\n",
    "csv_files = [file for file in os.listdir(directory_path) if file.endswith('.csv')]\n",
    "\n",
    "cs_data = (pd.concat([pd.read_csv(os.path.join(directory_path, file), usecols=[\"id\", \"url\"]).\n",
    "          rename(columns={\"id\": \"cs_id\"})\n",
    "          for file in csv_files], ignore_index=True)\n",
    "          .assign(url = lambda df: df[\"url\"].str.replace(r'^.*?(linkedin)', r'\\1', regex=True).apply(unquote)))\n",
    "\n",
    "## Import the Revelio files \n",
    "revelio_data = (pd.read_csv('data/1_raw_data/linkedin/revelio/company_mapping.csv',\n",
    "                usecols=[\"rcid\", \"linkedin_url\"],\n",
    "                encoding='ISO-8859-1')\n",
    "                .rename(columns={\"linkedin_url\": \"url\"})\n",
    "               .assign(url = lambda df: df[\"url\"].str.replace(r'^.*?(linkedin)', r'\\1', regex=True)))\n",
    "\n",
    "## merge the two\n",
    "combined = pd.merge(cs_data, revelio_data, on=\"url\", how= \"outer\", indicator=True)\n",
    "combined_filtered = (combined[combined[\"url\"]\n",
    "                     .str.contains(\"linkedin\",regex = False, na=False)]\n",
    "                    .sort_values(by=\"url\").reset_index(drop=True))\n",
    "combined_filtered.to_csv('data/2_processed/linkedin/cs_revelio_crosswalk.csv', index=False)"
   ]
  },
  {
   "cell_type": "code",
   "execution_count": 6,
   "id": "8b3951af-cd01-4c2b-897b-d7c7f3479640",
   "metadata": {},
   "outputs": [
    {
     "data": {
      "text/plain": [
       "np.float64(0.17516368635330545)"
      ]
     },
     "execution_count": 6,
     "metadata": {},
     "output_type": "execute_result"
    }
   ],
   "source": [
    "matched_share = (combined_filtered[combined_filtered[\"cs_id\"].notna()][\"_merge\"] == \"both\" ).mean()\n",
    "matched_share"
   ]
  }
 ],
 "metadata": {
  "kernelspec": {
   "display_name": "Python 3 (ipykernel)",
   "language": "python",
   "name": "python3"
  },
  "language_info": {
   "codemirror_mode": {
    "name": "ipython",
    "version": 3
   },
   "file_extension": ".py",
   "mimetype": "text/x-python",
   "name": "python",
   "nbconvert_exporter": "python",
   "pygments_lexer": "ipython3",
   "version": "3.12.7"
  }
 },
 "nbformat": 4,
 "nbformat_minor": 5
}
