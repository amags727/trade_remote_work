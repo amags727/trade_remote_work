{
 "cells": [
  {
   "cell_type": "code",
   "execution_count": 1,
   "id": "94cfed99-f98d-4719-8f92-8f1dd2ac1ea5",
   "metadata": {},
   "outputs": [],
   "source": [
    "## SETUP \n",
    "imports = ['wrds', 'pandas as pd', 'os','math', 'glob',\n",
    "           're', 'pickle', 'numpy as np',\n",
    "           'from name_matching.name_matcher import NameMatcher',\n",
    "          'from joblib import Parallel, delayed',\n",
    "          'from IPython.display import display, HTML, clear_output',\n",
    "          'unicodedata', 'sys', 'numpy as np', 'glob']\n",
    "for command in imports:\n",
    "    if command.startswith('from'): exec(command)\n",
    "    else: exec('import ' + command)\n",
    "\n",
    "if not os.getcwd().endswith('Big Data'):\n",
    "    os.chdir('../..')\n",
    "\n",
    "sys.path.append('trade_data_code/2_python')\n",
    "import A_helper_functions as hf\n",
    "\n",
    "db = wrds.Connection(wrds_username='am0195')"
   ]
  },
  {
   "cell_type": "code",
   "execution_count": 43,
   "id": "8a4be762-bfc2-4b08-99a7-d233eff48194",
   "metadata": {},
   "outputs": [
    {
     "data": {
      "text/plain": [
       "array(['Master', None, 'Associate', 'MBA', 'Doctor', 'Bachelor',\n",
       "       'High School'], dtype=object)"
      ]
     },
     "execution_count": 43,
     "metadata": {},
     "output_type": "execute_result"
    }
   ],
   "source": [
    "hi = pd.read_parquet('data/2_processed/linkedin/temp_user_prestige/temp0.parquet')['highest_degree']\n",
    "hi.assign(advanced_degree = lambda x: x['highest_degree'].isin(['Master', 'MBA', 'Doctor']),\n",
    "         college = lambda x: x[advanced_degree] | x['highest_degree'].isin(['Bachelor']))"
   ]
  }
 ],
 "metadata": {
  "kernelspec": {
   "display_name": "Python [conda env:root] *",
   "language": "python",
   "name": "conda-root-py"
  },
  "language_info": {
   "codemirror_mode": {
    "name": "ipython",
    "version": 3
   },
   "file_extension": ".py",
   "mimetype": "text/x-python",
   "name": "python",
   "nbconvert_exporter": "python",
   "pygments_lexer": "ipython3",
   "version": "3.8.8"
  }
 },
 "nbformat": 4,
 "nbformat_minor": 5
}
