{
 "cells": [
  {
   "cell_type": "code",
   "execution_count": null,
   "id": "2eb47d84-08b7-4d86-b197-b52e10583076",
   "metadata": {},
   "outputs": [],
   "source": [
    "## SETUP \n",
    "imports = ['wrds', 'pandas as pd', 'os','math', 'glob',\n",
    "           're', 'pickle', 'numpy as np',\n",
    "           'from name_matching.name_matcher import NameMatcher',\n",
    "          'from joblib import Parallel, delayed',\n",
    "          'from IPython.display import display, HTML, clear_output',\n",
    "          'unicodedata', 'sys', 'numpy as np', 'shutil', 'itertools', 'from langdetect import detect, DetectorFactory',\n",
    "          'shutil']\n",
    "\n",
    "for command in imports:\n",
    "    if command.startswith('from'): exec(command)\n",
    "    else: exec('import ' + command)\n",
    "\n",
    "if not os.getcwd().endswith('Big Data'):\n",
    "    os.chdir('../..')"
   ]
  },
  {
   "cell_type": "code",
   "execution_count": 5,
   "id": "856e41a8-cf90-4962-a6f1-6fbca7da4da9",
   "metadata": {},
   "outputs": [
    {
     "ename": "NameError",
     "evalue": "name 'wrds' is not defined",
     "output_type": "error",
     "traceback": [
      "\u001b[0;31m---------------------------------------------------------------------------\u001b[0m",
      "\u001b[0;31mNameError\u001b[0m                                 Traceback (most recent call last)",
      "Cell \u001b[0;32mIn[5], line 1\u001b[0m\n\u001b[0;32m----> 1\u001b[0m db \u001b[38;5;241m=\u001b[39m wrds\u001b[38;5;241m.\u001b[39mConnection(wrds_username\u001b[38;5;241m=\u001b[39m\u001b[38;5;124m'\u001b[39m\u001b[38;5;124mam0195\u001b[39m\u001b[38;5;124m'\u001b[39m)\n",
      "\u001b[0;31mNameError\u001b[0m: name 'wrds' is not defined"
     ]
    }
   ],
   "source": [
    "db = wrds.Connection(wrds_username='am0195')"
   ]
  },
  {
   "cell_type": "markdown",
   "id": "94864020-0d01-4166-8734-0adcb1311330",
   "metadata": {},
   "source": [
    "Import raw data \n",
    "1) [wrds_wd_funda / wrds_ws_company](https://wrds-www.wharton.upenn.edu/pages/get-data/lseg/worldscope/fundamentals-annual/)\n",
    "2) [LSEG IBES guidance](https://wrds-www.wharton.upenn.edu/pages/get-data/lseg-ibes/ibes-guidance/detail-history/detail/)\n",
    "\n"
   ]
  },
  {
   "cell_type": "code",
   "execution_count": null,
   "id": "f547e01d-30b5-4c93-a540-085fecf1d4a2",
   "metadata": {},
   "outputs": [],
   "source": [
    "output = db.raw_sql(\"\"\"\n",
    "WITH first_guidance AS (\n",
    "  SELECT ticker, prd_yr::int AS fiscal_year, measure, curr, units, anndats, val_1,val_2,\n",
    "    ROW_NUMBER() \n",
    "    OVER ( PARTITION BY ticker, prd_yr, measure ORDER BY anndats ASC, actdats ASC) AS rn\n",
    "    FROM ibes.det_guidance\n",
    "    WHERE pdicity = 'ANN' and measure = 'SAL' and curr = 'USD' \n",
    "    )\n",
    "SELECT c.item6038 AS ibes_ticker, f.year_ AS fiscal_year, c.item6011  AS industry_group, c.item6026 AS nation,\n",
    "  f.item7240 AS net_sales_usd, g.measure, g.curr, g.units, g.anndats, g.val_1, g.val_2\n",
    "  FROM trws.wrds_ws_funda f\n",
    "  JOIN trws.wrds_ws_company c ON c.item6038 = f.item6038\n",
    "  JOIN first_guidance g ON g.ticker = f.item6038 AND g.fiscal_year = f.year_ AND g.rn = 1\n",
    "  WHERE f.item6038 IS NOT NULL\"\"\")"
   ]
  },
  {
   "cell_type": "code",
   "execution_count": null,
   "id": "72a93c6f-a50c-4bcd-93fc-e826090df5c0",
   "metadata": {},
   "outputs": [],
   "source": [
    "output"
   ]
  },
  {
   "cell_type": "code",
   "execution_count": null,
   "id": "573e1edd-2e5c-4b15-bf48-dc7b29193b94",
   "metadata": {},
   "outputs": [],
   "source": []
  },
  {
   "cell_type": "code",
   "execution_count": null,
   "id": "29290c37-991e-4903-866c-b58ea1cc4a49",
   "metadata": {},
   "outputs": [],
   "source": [
    "h"
   ]
  },
  {
   "cell_type": "code",
   "execution_count": null,
   "id": "4c33df88-0d4b-48f2-9363-406081338054",
   "metadata": {},
   "outputs": [],
   "source": [
    "db.raw_sql(\"\"\"\n",
    "SELECT ticker, pdicity, prd_yr, prd_mon, measure, curr, units, anndats, val_1, val_2\n",
    "FROM ibes.det_guidance\n",
    "where pdicity = 'ANN'\n",
    "LIMIT 10\n",
    "\"\"\")"
   ]
  },
  {
   "cell_type": "code",
   "execution_count": null,
   "id": "3d73670e-bc31-42e9-a96b-1ed271841ef6",
   "metadata": {},
   "outputs": [],
   "source": []
  }
 ],
 "metadata": {
  "kernelspec": {
   "display_name": "Python 3 (ipykernel)",
   "language": "python",
   "name": "python3"
  },
  "language_info": {
   "codemirror_mode": {
    "name": "ipython",
    "version": 3
   },
   "file_extension": ".py",
   "mimetype": "text/x-python",
   "name": "python",
   "nbconvert_exporter": "python",
   "pygments_lexer": "ipython3",
   "version": "3.12.7"
  }
 },
 "nbformat": 4,
 "nbformat_minor": 5
}
